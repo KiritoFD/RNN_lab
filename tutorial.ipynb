{
 "cells": [
  {
   "cell_type": "markdown",
   "metadata": {
    "editable": true,
    "slideshow": {
     "slide_type": ""
    },
    "tags": []
   },
   "source": [
    "## Jupyter 简介\n",
    "在最开始的部分，我先带领大家来认识一下jupyter。\n",
    "\n",
    "> Jupyter Notebook是基于网页的用于交互计算的应用程序。其可被应用于全过程计算：开发、文档编写、运行代码和展示结果。\n",
    ">  ——Jupyter Notebook官方介绍\n",
    "\n",
    "简而言之，Jupyter Notebook是以网页的形式打开，可以在网页页面中「直接」编写代码和运行代码，代码的运行结果也会直接在代码块下显示。\n",
    "如在编程过程中需要编写说明文档，可在同一个页面中直接编写，便于作及时的说明和解释。\n",
    "\n",
    "同时，jupyter还可以方便的**看到代码运行过程中产生的中间结果**。"
   ]
  },
  {
   "cell_type": "markdown",
   "metadata": {},
   "source": [
    "## Jupyter 安装与使用\n",
    "\n",
    "使用pip工具就可以安装jupyter\n",
    "```shell\n",
    "pip install jupyterlab\n",
    "```\n",
    "\n",
    "启动jupyter只需要在终端中输入指令\n",
    "```shell\n",
    "jupyter lab [path/to/your/project]\n",
    "```"
   ]
  },
  {
   "cell_type": "markdown",
   "metadata": {},
   "source": [
    "## RNN EXP\n",
    "\n",
    "### RNN\n",
    "\n",
    "首先来复习一下RNN的结构。\n",
    "\n",
    "![image.png](img/rnn.png)\n",
    "\n",
    "RNN是一种循环神经网络，输入数据是一个序列，输出的数据也是一个序列。\n",
    "\n",
    "### 自回归任务\n",
    "\n",
    "自回归任务（Autoregressive Task）是一类机器学习或深度学习任务，在这种任务中，模型通过逐步预测下一个数据点来生成或预测序列。例如，模型会使用一个时间序列中之前的观测值来预测未来的观测值。自回归模型假设当前的数据点与之前的数据点有关联，通过逐步推理前面的值来生成或预测后续的值。\n",
    "\n",
    "![image.png](img/autoregressive.exdr.png)"
   ]
  },
  {
   "cell_type": "markdown",
   "metadata": {},
   "source": [
    "In this implementation, we'll be building a model that can complete your sentence based on a few characters or a word used as input.\n",
    "![Example](img/Slide4.jpg)\n",
    "\n",
    "To keep this short and simple, we won't be using any large or external datasets. Instead, we'll just be defining a few sentences to see how the model learns from these sentences. The process that this implementation will take is as follows:\n",
    "\n",
    "![Overview](img/Slide5.jpg)"
   ]
  },
  {
   "cell_type": "markdown",
   "metadata": {},
   "source": [
    "We'll start off by importing the main PyTorch package along with the *Variable* class used to store our data tensors and the *nn* package which we will use when building the model. In addition, we'll only be using numpy to pre-process our data as Torch works really well with numpy."
   ]
  },
  {
   "cell_type": "code",
   "execution_count": 223,
   "metadata": {},
   "outputs": [],
   "source": [
    "import torch\n",
    "from torch import nn\n",
    "\n",
    "import numpy as np"
   ]
  },
  {
   "cell_type": "markdown",
   "metadata": {},
   "source": [
    "First, we'll define the sentences that we want our model to output when fed with the first word or the first few characters.\n",
    "\n",
    "Then we'll create a dictionary out of all the characters that we have in the sentences and map them to an integer. This will allow us to convert our input characters to their respective integers (*char2int*) and vice versa (*int2char*)."
   ]
  },
  {
   "cell_type": "code",
   "execution_count": 224,
   "metadata": {},
   "outputs": [],
   "source": [
    "text = ['hey how are you','good i am fine','have a nice day']\n",
    "\n",
    "# Join all the sentences together and extract the unique characters from the combined sentences\n",
    "chars = set(''.join(text))\n",
    "\n",
    "# Creating a dictionary that maps integers to the characters\n",
    "int2char = dict(enumerate(chars))\n",
    "\n",
    "# Creating another dictionary that maps characters to integers\n",
    "char2int = {char: ind for ind, char in int2char.items()}"
   ]
  },
  {
   "cell_type": "code",
   "execution_count": 225,
   "metadata": {},
   "outputs": [
    {
     "name": "stdout",
     "output_type": "stream",
     "text": [
      "{'r': 0, ' ': 1, 'u': 2, 'v': 3, 'i': 4, 'w': 5, 'm': 6, 'c': 7, 'a': 8, 'e': 9, 'g': 10, 'd': 11, 'f': 12, 'n': 13, 'y': 14, 'o': 15, 'h': 16}\n",
      "{0: 'r', 1: ' ', 2: 'u', 3: 'v', 4: 'i', 5: 'w', 6: 'm', 7: 'c', 8: 'a', 9: 'e', 10: 'g', 11: 'd', 12: 'f', 13: 'n', 14: 'y', 15: 'o', 16: 'h'}\n"
     ]
    }
   ],
   "source": [
    "print(char2int)\n",
    "print(int2char)"
   ]
  },
  {
   "cell_type": "markdown",
   "metadata": {},
   "source": [
    "Next, we'll be padding our input sentences to ensure that all the sentences are of the sample length. While RNNs are typically able to take in variably sized inputs, we will usually want to feed training data in batches to speed up the training process. In order to used batches to train on our data, we'll need to ensure that each sequence within the input data are of equal size.\n",
    "\n",
    "Therefore, in most cases, padding can be done by filling up sequences that are too short with **0** values and trimming sequences that are too long. In our case, we'll be finding the length of the longest sequence and padding the rest of the sentences with blank spaces to match that length."
   ]
  },
  {
   "cell_type": "code",
   "execution_count": 226,
   "metadata": {},
   "outputs": [
    {
     "name": "stdout",
     "output_type": "stream",
     "text": [
      "The longest string has 15 characters\n"
     ]
    }
   ],
   "source": [
    "maxlen = len(max(text, key=len))\n",
    "print(\"The longest string has {} characters\".format(maxlen))"
   ]
  },
  {
   "cell_type": "code",
   "execution_count": 227,
   "metadata": {},
   "outputs": [],
   "source": [
    "# Padding\n",
    "\n",
    "# A simple loop that loops through the list of sentences and adds a ' ' whitespace until the length of the sentence matches\n",
    "# the length of the longest sentence\n",
    "for i in range(len(text)):\n",
    "    while len(text[i])<maxlen:\n",
    "        text[i] += ' '"
   ]
  },
  {
   "cell_type": "markdown",
   "metadata": {},
   "source": [
    "As we're going to predict the next character in the sequence at each time step, we'll have to divide each sentence into\n",
    "\n",
    "- Input data\n",
    "    - The last input character should be excluded as it does not need to be fed into the model\n",
    "- Target/Ground Truth Label\n",
    "    - One time-step ahead of the Input data as this will be the \"correct answer\" for the model at each time step corresponding to the input data"
   ]
  },
  {
   "cell_type": "code",
   "execution_count": 228,
   "metadata": {},
   "outputs": [
    {
     "name": "stdout",
     "output_type": "stream",
     "text": [
      "Input Sequence: hey how are yo\n",
      "Target Sequence: ey how are you\n",
      "Input Sequence: good i am fine\n",
      "Target Sequence: ood i am fine \n",
      "Input Sequence: have a nice da\n",
      "Target Sequence: ave a nice day\n"
     ]
    }
   ],
   "source": [
    "# Creating lists that will hold our input and target sequences\n",
    "input_seq = []\n",
    "target_seq = []\n",
    "\n",
    "for i in range(len(text)):\n",
    "    # Remove last character for input sequence\n",
    "    input_seq.append(text[i][:-1])\n",
    "    \n",
    "    # Remove firsts character for target sequence\n",
    "    target_seq.append(text[i][1:])\n",
    "    print(\"Input Sequence: {}\\nTarget Sequence: {}\".format(input_seq[i], target_seq[i]))"
   ]
  },
  {
   "cell_type": "markdown",
   "metadata": {},
   "source": [
    "### One hot encoding\n",
    "\n",
    "Why we need encoding?\n",
    "\n",
    "Consider this example: apple, banana, strawberry. \n",
    "\n",
    "If we use alphabetical order, apple and banana will be close, and strawberry is far away from them.\n",
    "But, apple and strawberry both have red color, and all of them are fruits.\n",
    "\n",
    "So, we need a more complex way to represent a word.\n",
    "The simplest way is one-hot encoding, it represents each category as a unique binary vector, \n",
    "where only one element is \"1\" (indicating the presence of a specific category), and all other elements are \"0\"\n",
    "\n",
    "![image.png](img/onehot.png)"
   ]
  },
  {
   "cell_type": "markdown",
   "metadata": {},
   "source": [
    "Now we can convert our input and target sequences to sequences of integers instead of characters by mapping them using the dictionaries we created above. This will allow us to one-hot-encode our input sequence subsequently."
   ]
  },
  {
   "cell_type": "code",
   "execution_count": 229,
   "metadata": {},
   "outputs": [],
   "source": [
    "for i in range(len(text)):\n",
    "    input_seq[i] = [char2int[character] for character in input_seq[i]]\n",
    "    target_seq[i] = [char2int[character] for character in target_seq[i]]"
   ]
  },
  {
   "cell_type": "markdown",
   "metadata": {},
   "source": [
    "Before encoding our input sequence into one-hot vectors, we'll define 3 key variables:\n",
    "\n",
    "- *dict_size*: The number of unique characters that we have in our text\n",
    "    - This will determine the one-hot vector size as each character will have an assigned index in that vector\n",
    "- *seq_len*: The length of the sequences that we're feeding into the model\n",
    "    - As we standardised the length of all our sentences to be equal to the longest sentences, this value will be the max length - 1 as we removed the last character input as well\n",
    "- *batch_size*: The number of sentences that we defined and are going to feed into the model as a batch"
   ]
  },
  {
   "cell_type": "code",
   "execution_count": 230,
   "metadata": {},
   "outputs": [],
   "source": [
    "dict_size = len(char2int)\n",
    "seq_len = maxlen - 1\n",
    "batch_size = len(text)\n",
    "\n",
    "def one_hot_encode(sequence, dict_size, seq_len, batch_size):\n",
    "    # Creating a multi-dimensional array of zeros with the desired output shape\n",
    "    features = np.zeros((batch_size, seq_len, dict_size), dtype=np.float32)\n",
    "    \n",
    "    # Replacing the 0 at the relevant character index with a 1 to represent that character\n",
    "    for i in range(batch_size):\n",
    "        for u in range(seq_len):\n",
    "            features[i, u, sequence[i][u]] = 1\n",
    "    return features"
   ]
  },
  {
   "cell_type": "markdown",
   "metadata": {},
   "source": [
    "We also defined a helper function that creates arrays of zeros for each character and replaces the corresponding character index with a **1**."
   ]
  },
  {
   "cell_type": "code",
   "execution_count": 231,
   "metadata": {},
   "outputs": [
    {
     "name": "stdout",
     "output_type": "stream",
     "text": [
      "Input shape: (3, 14, 17) --> (Batch Size, Sequence Length, One-Hot Encoding Size)\n"
     ]
    }
   ],
   "source": [
    "input_seq = one_hot_encode(input_seq, dict_size, seq_len, batch_size)\n",
    "print(\"Input shape: {} --> (Batch Size, Sequence Length, One-Hot Encoding Size)\".format(input_seq.shape))"
   ]
  },
  {
   "cell_type": "markdown",
   "metadata": {},
   "source": [
    "Do you remeber the different tensor dim?\n",
    "\n",
    "<img src=\"img/tensor%20dims.png\"  width=\"700\" />\n",
    "\n",
    "In this Experiment, we use 3D tensor as input. The meaning of each dimension is as follows:\n",
    "\n",
    "<img src=\"img/meaning%20of%20dims.exdr.png\"  width=\"700\" />"
   ]
  },
  {
   "cell_type": "markdown",
   "metadata": {},
   "source": [
    "Since we're done with all the data pre-processing, we can now move the data from numpy arrays to PyTorch's very own data structure - **Torch Tensors**"
   ]
  },
  {
   "cell_type": "code",
   "execution_count": 232,
   "metadata": {},
   "outputs": [],
   "source": [
    "input_seq = torch.from_numpy(input_seq)\n",
    "target_seq = torch.Tensor(target_seq)"
   ]
  },
  {
   "cell_type": "markdown",
   "metadata": {},
   "source": [
    "Now we've reached the fun part of this project! We'll be defining the model using the Torch library, and this is where you can add or remove layers, be it fully connected layers, convolutational layers, vanilla RNN layers, LSTM layers, and many more! In this post, we'll be using the basic nn.rnn to demonstrate a simple example of how RNNs can be used.\n",
    "\n",
    "Before we start building the model, let's use a build in feature in PyTorch to check the device we're running on (CPU or GPU). This implementation will not require GPU as the training is really simple. However, as you progress on to large datasets and models with millions of trainable parameters, using the GPU will be very important to speed up your training."
   ]
  },
  {
   "cell_type": "code",
   "execution_count": 233,
   "metadata": {},
   "outputs": [
    {
     "name": "stdout",
     "output_type": "stream",
     "text": [
      "GPU is available\n"
     ]
    }
   ],
   "source": [
    "# torch.cuda.is_available() checks and returns a Boolean True if a GPU is available, else it'll return False\n",
    "is_cuda = torch.cuda.is_available()\n",
    "\n",
    "# If we have a GPU available, we'll set our device to GPU. We'll use this device variable later in our code.\n",
    "if is_cuda:\n",
    "    device = torch.device(\"cuda\")\n",
    "    print(\"GPU is available\")\n",
    "else:\n",
    "    device = torch.device(\"cpu\")\n",
    "    print(\"GPU not available, CPU used\")"
   ]
  },
  {
   "cell_type": "markdown",
   "metadata": {},
   "source": [
    "To start building our own neural network model, we can define a class that inherits PyTorch’s base class (nn.module) for all neural network modules. After doing so, we can start defining some variables and also the layers for our model under the constructor. For this model, we’ll only be using 1 layer of RNN followed by a fully connected layer. The fully connected layer will be in-charge of converting the RNN output to our desired output shape.\n",
    "\n",
    "We’ll also have to define the forward pass function under forward() as a class method. The order the forward function is sequentially executed, therefore we’ll have to pass the inputs and the zero-initialized hidden state through the RNN layer first, before passing the RNN outputs to the fully-connected layer. Note that we are using the layers that we defined in the constructor.\n",
    "\n",
    "The last method that we have to define is the method that we called earlier to initialize the hidden state - init_hidden(). This basically creates a tensor of zeros in the shape of our hidden states."
   ]
  },
  {
   "cell_type": "code",
   "execution_count": 234,
   "metadata": {},
   "outputs": [],
   "source": [
    "class Model(nn.Module):\n",
    "    def __init__(self, input_size, output_size, hidden_dim, n_layers):\n",
    "        super(Model, self).__init__()\n",
    "\n",
    "        # Defining some parameters\n",
    "        self.hidden_dim = hidden_dim\n",
    "        self.n_layers = n_layers\n",
    "\n",
    "        #Defining the layers\n",
    "        # RNN Layer\n",
    "        self.rnn = nn.RNN(input_size, hidden_dim, n_layers, batch_first=True)   \n",
    "        # Fully connected layer\n",
    "        self.fc = nn.Linear(hidden_dim, output_size)\n",
    "    \n",
    "    def forward(self, x):\n",
    "        \n",
    "        batch_size = x.size(0)\n",
    "\n",
    "        #Initializing hidden state for first input using method defined below\n",
    "        hidden = self.init_hidden(batch_size)\n",
    "\n",
    "        # Passing in the input and hidden state into the model and obtaining outputs\n",
    "        out, hidden = self.rnn(x, hidden)\n",
    "        \n",
    "        # Reshaping the outputs such that it can be fit into the fully connected layer\n",
    "        out = out.contiguous().view(-1, self.hidden_dim)\n",
    "        out = self.fc(out)\n",
    "        \n",
    "        return out, hidden\n",
    "    \n",
    "    def init_hidden(self, batch_size):\n",
    "        # This method generates the first hidden state of zeros which we'll use in the forward pass\n",
    "        hidden = torch.zeros(self.n_layers, batch_size, self.hidden_dim).to(device)\n",
    "         # We'll send the tensor holding the hidden state to the device we specified earlier as well\n",
    "        return hidden"
   ]
  },
  {
   "cell_type": "markdown",
   "metadata": {},
   "source": [
    "After defining the model above, we'll have to instantiate the model with the relevant parameters and define our hyperparamters as well. The hyperparameters we're defining below are:\n",
    "\n",
    "- *n_epochs*: Number of Epochs --> This refers to the number of times our model will go through the entire training dataset\n",
    "- *lr*: Learning Rate --> This affects the rate at which our model updates the weights in the cells each time backpropogation is done\n",
    "    - A smaller learning rate means that the model changes the values of the weight with a smaller magnitude\n",
    "    - A larger learning rate means that the weights are updated to a larger extent for each time step\n",
    "\n",
    "Similar to other neural networks, we have to define the optimizer and loss function as well. We’ll be using CrossEntropyLoss as the final output is basically a classification task."
   ]
  },
  {
   "cell_type": "code",
   "execution_count": 235,
   "metadata": {},
   "outputs": [],
   "source": [
    "# Instantiate the model with hyperparameters\n",
    "model = Model(input_size=dict_size, output_size=dict_size, hidden_dim=12, n_layers=1)\n",
    "# We'll also set the model to the device that we defined earlier (default is CPU)\n",
    "model = model.to(device)\n",
    "\n",
    "# Define hyperparameters\n",
    "n_epochs = 100\n",
    "lr=0.01\n",
    "\n",
    "# Define Loss, Optimizer\n",
    "criterion = nn.CrossEntropyLoss()\n",
    "optimizer = torch.optim.Adam(model.parameters(), lr=lr)"
   ]
  },
  {
   "cell_type": "markdown",
   "metadata": {},
   "source": [
    "Now we can begin our training! As we only have a few sentences, this training process is very fast. However, as we progress, larger datasets and deeper models mean that the input data is much larger and the number of parameters within the model that we have to compute is much more."
   ]
  },
  {
   "cell_type": "code",
   "execution_count": 236,
   "metadata": {
    "scrolled": true
   },
   "outputs": [
    {
     "name": "stdout",
     "output_type": "stream",
     "text": [
      "Epoch: 10/100............. Loss: 2.4364\n",
      "Epoch: 20/100............. Loss: 2.0840\n",
      "Epoch: 30/100............. Epoch: 30/100............. Loss: 1.6903\n",
      "Epoch: 40/100............. Loss: 1.3190\n",
      "Epoch: 50/100............. Loss: 0.9917\n",
      "Loss: 1.6903\n",
      "Epoch: 40/100............. Loss: 1.3190\n",
      "Epoch: 50/100............. Loss: 0.9917\n",
      "Epoch: 60/100............. Epoch: 60/100............. Loss: 0.7220\n",
      "Epoch: 70/100............. Loss: 0.5086\n",
      "Epoch: 80/100............. Loss: 0.3504\n",
      "Epoch: 90/100............. Loss: 0.2454\n",
      "Epoch: 100/100............. Loss: 0.1788\n",
      "Loss: 0.7220\n",
      "Epoch: 70/100............. Loss: 0.5086\n",
      "Epoch: 80/100............. Loss: 0.3504\n",
      "Epoch: 90/100............. Loss: 0.2454\n",
      "Epoch: 100/100............. Loss: 0.1788\n"
     ]
    }
   ],
   "source": [
    "# Training Run\n",
    "input_seq = input_seq.to(device)\n",
    "for epoch in range(1, n_epochs + 1):\n",
    "    optimizer.zero_grad() # Clears existing gradients from previous epoch\n",
    "    #input_seq = input_seq.to(device)\n",
    "    output, hidden = model(input_seq)\n",
    "    output = output.to(device)\n",
    "    target_seq = target_seq.to(device)\n",
    "    loss = criterion(output, target_seq.view(-1).long())\n",
    "    loss.backward() # Does backpropagation and calculates gradients\n",
    "    optimizer.step() # Updates the weights accordingly\n",
    "    \n",
    "    if epoch%10 == 0:\n",
    "        print('Epoch: {}/{}.............'.format(epoch, n_epochs), end=' ')\n",
    "        print(\"Loss: {:.4f}\".format(loss.item()))"
   ]
  },
  {
   "cell_type": "markdown",
   "metadata": {},
   "source": [
    "Let’s test our model now and see what kind of output we will get. Before that, let’s define some helper function to convert our model output back to text."
   ]
  },
  {
   "cell_type": "code",
   "execution_count": 237,
   "metadata": {},
   "outputs": [],
   "source": [
    "@torch.no_grad()\n",
    "def predict(model, character):\n",
    "    # One-hot encoding our input to fit into the model\n",
    "    character = np.array([[char2int[c] for c in character]])\n",
    "    character = one_hot_encode(character, dict_size, character.shape[1], 1)\n",
    "    character = torch.from_numpy(character)\n",
    "    character = character.to(device)\n",
    "    \n",
    "    out, hidden = model(character)\n",
    "\n",
    "    prob = nn.functional.softmax(out[-1], dim=0).data\n",
    "    # Taking the class with the highest probability score from the output\n",
    "    char_ind = torch.max(prob, dim=0)[1].item()\n",
    "\n",
    "    return int2char[char_ind], hidden"
   ]
  },
  {
   "cell_type": "code",
   "execution_count": 238,
   "metadata": {},
   "outputs": [],
   "source": [
    "def sample(model, out_len, start='hey'):\n",
    "    model.eval() # eval mode\n",
    "    start = start.lower()\n",
    "    # First off, run through the starting characters\n",
    "    chars = [ch for ch in start]\n",
    "    size = out_len - len(chars)\n",
    "    # Now pass in the previous characters and get a new one\n",
    "    for ii in range(size):\n",
    "        char, h = predict(model, chars)\n",
    "        chars.append(char)\n",
    "\n",
    "    return ''.join(chars)"
   ]
  },
  {
   "cell_type": "code",
   "execution_count": 239,
   "metadata": {},
   "outputs": [
    {
     "data": {
      "text/plain": [
       "'good i am fine '"
      ]
     },
     "execution_count": 239,
     "metadata": {},
     "output_type": "execute_result"
    }
   ],
   "source": [
    "sample(model, 15, 'good')"
   ]
  },
  {
   "cell_type": "markdown",
   "metadata": {},
   "source": [
    "As we can see, the model is able to come up with the sentence ‘good i am fine ‘ if we feed it with the words ‘good’, achieving what we intended for it to do!"
   ]
  },
  {
   "cell_type": "markdown",
   "metadata": {},
   "source": [
    "## 中文影评情感分类任务\n",
    "\n",
    "接下来，我们将使用 PyTorch 设计 RNN 和 LSTM 模型，在一个中文影评数据集上完成情感分类任务，并对比它们的性能。"
   ]
  },
  {
   "cell_type": "markdown",
   "metadata": {},
   "source": [
    "### 1. 导入所需库\n",
    "\n",
    "首先，导入所有必要的库。我们将使用 `torch` 进行模型构建和训练，`jieba` 进行中文分词，`sklearn` 进行数据处理和评估，`matplotlib` 和 `seaborn` 进行可视化。\n",
    "\n",
    "**注意**: 请确保您已经安装了 `jieba`, `scikit-learn`, `matplotlib`, `seaborn`。如果未安装，可以使用 pip 进行安装：\n",
    "`pip install jieba scikit-learn matplotlib seaborn pandas`"
   ]
  },
  {
   "cell_type": "markdown",
   "metadata": {},
   "source": [
    "### 1.0 设置随机种子\n",
    "\n",
    "为了确保实验的可重复性，我们首先设置随机种子。这样，每次运行代码时，随机初始化的部分（如模型参数）将保持一致，使得结果可比较。"
   ]
  },
  {
   "cell_type": "code",
   "execution_count": 240,
   "metadata": {},
   "outputs": [
    {
     "name": "stdout",
     "output_type": "stream",
     "text": [
      "随机种子已设置为 1234\n"
     ]
    }
   ],
   "source": [
    "# 设置随机种子以保证实验的可重复性\n",
    "import random\n",
    "import numpy as np\n",
    "import torch\n",
    "\n",
    "SEED = 1234\n",
    "\n",
    "random.seed(SEED)\n",
    "np.random.seed(SEED)\n",
    "torch.manual_seed(SEED)\n",
    "torch.cuda.manual_seed_all(SEED)\n",
    "torch.backends.cudnn.deterministic = True\n",
    "torch.backends.cudnn.benchmark = False\n",
    "\n",
    "print(\"随机种子已设置为\", SEED)"
   ]
  },
  {
   "cell_type": "code",
   "execution_count": 241,
   "metadata": {},
   "outputs": [
    {
     "name": "stdout",
     "output_type": "stream",
     "text": [
      "Using device: cuda\n"
     ]
    }
   ],
   "source": [
    "import gensim\n",
    "import jieba\n",
    "import numpy as np\n",
    "import os\n",
    "import torch\n",
    "from torch.utils.data import Dataset, DataLoader\n",
    "from torch.functional import F\n",
    "import pandas as pd # Added for get_dataloader if data is a DataFrame path\n",
    "\n",
    "# 设置设备\n",
    "device = torch.device('cuda' if torch.cuda.is_available() else 'cpu')\n",
    "print(f\"Using device: {device}\")\n",
    "\n",
    "# Matplotlib 中文显示设置 (如果需要)\n",
    "import matplotlib.pyplot as plt\n",
    "plt.rcParams['font.sans-serif'] = ['SimHei'] # 指定默认字体\n",
    "plt.rcParams['axes.unicode_minus'] = False # 解决保存图像是负号'-'显示为方块的问题\n",
    "\n",
    "\n",
    "class RNNDataset(Dataset):\n",
    "    def __init__(self, data, word2vec_model, seq_len, word_len=100):\n",
    "        # Assuming 'data' is a DataFrame\n",
    "        label = data['label'].to_numpy().astype(np.float32)\n",
    "        self.word2vec_model = word2vec_model\n",
    "        # Ensure reviews are strings before passing to jieba.cut\n",
    "        self.data = [list(jieba.cut(str(sentence))) for sentence in data['review'].to_list()]\n",
    "        self.label = torch.from_numpy(label).unsqueeze(-1)\n",
    "        self.seq_len = seq_len\n",
    "        self.word_len = word_len        \n",
    "\n",
    "    def preprocess(self, sentence):\n",
    "        # Filter out words not in Word2Vec vocabulary and handle empty sentences\n",
    "        valid_words = [word for word in sentence if word in self.word2vec_model.wv]\n",
    "        if not valid_words:\n",
    "            # Return a zero tensor of appropriate shape if no valid words are found\n",
    "            return torch.zeros((self.seq_len, self.word_len), dtype=torch.float32)\n",
    "\n",
    "        sentence_vectors = np.array([self.word2vec_model.wv[word] for word in valid_words], dtype=np.float32)\n",
    "        sentence_tensor = torch.from_numpy(sentence_vectors)\n",
    "        \n",
    "        # Pad or truncate\n",
    "        current_len = sentence_tensor.shape[0]\n",
    "        if current_len == 0: # Should be caught by the empty valid_words check, but as a safeguard\n",
    "             return torch.zeros((self.seq_len, self.word_len), dtype=torch.float32)\n",
    "\n",
    "        if current_len > self.seq_len:\n",
    "            sentence_tensor = sentence_tensor[:self.seq_len, :]\n",
    "        elif current_len < self.seq_len:\n",
    "            padding_size = self.seq_len - current_len\n",
    "            # Correct padding for (seq_len, word_len) shape\n",
    "            sentence_tensor = F.pad(sentence_tensor, (0, 0, 0, padding_size), 'constant', 0)\n",
    "        return sentence_tensor\n",
    "\n",
    "    def __len__(self):\n",
    "        return len(self.data)\n",
    "\n",
    "    def __getitem__(self, idx):\n",
    "        sentence = self.data[idx]\n",
    "        label = self.label[idx]\n",
    "        return self.preprocess(sentence), label\n",
    "    \n",
    "\n",
    "def build_word2vec_model(data, word_len, model_dir='./model', model_name='word2vec.model'):\n",
    "    # Assuming 'data' is a DataFrame\n",
    "    # Ensure reviews are strings before passing to jieba.cut\n",
    "    sentences = [list(jieba.cut(str(sentence))) for sentence in data['review'].to_list()]\n",
    "    \n",
    "    if not os.path.exists(model_dir):\n",
    "        os.makedirs(model_dir)\n",
    "    model_path = os.path.join(model_dir, model_name)\n",
    "        \n",
    "    if os.path.exists(model_path):\n",
    "        print(f\"Loading existing Word2Vec model from {model_path}\")\n",
    "        word2vec_model = gensim.models.Word2Vec.load(model_path)\n",
    "    else:\n",
    "        print(f\"Building new Word2Vec model and saving to {model_path}\")\n",
    "        word2vec_model = gensim.models.Word2Vec(sentences, vector_size=word_len, window=5, min_count=1, workers=4)\n",
    "        word2vec_model.save(model_path)\n",
    "    return word2vec_model\n",
    "\n",
    "\n",
    "def get_dataloader(data_path, seq_len, word_len, batch_size, model_dir='./model'):\n",
    "    # Load data from CSV, assuming data_path is a string path to a CSV file\n",
    "    try:\n",
    "        data_df = pd.read_csv(data_path)\n",
    "    except Exception as e:\n",
    "        print(f\"Error loading data from {data_path}: {e}\")\n",
    "        print(\"Using sample data instead.\")\n",
    "        # Fallback to sample data if loading fails\n",
    "        sample_reviews = [\n",
    "            '这家酒店环境很好，服务周到。', '房间太小了，性价比不高。', \n",
    "            '早餐种类丰富，味道不错。', '隔音效果差，晚上很吵。', \n",
    "            '地理位置优越，出行方便。', '设施陈旧，体验不佳。',\n",
    "            '服务员态度热情，点赞。', '网络信号不稳定。',\n",
    "            '强烈推荐这家！', '不会再来了。'\n",
    "        ]\n",
    "        sample_labels = [1, 0, 1, 0, 1, 0, 1, 0, 1, 0] # 1 for positive, 0 for negative\n",
    "        data_df = pd.DataFrame({'review': sample_reviews, 'label': sample_labels})\n",
    "\n",
    "    # Ensure 'review' and 'label' columns exist\n",
    "    if 'review' not in data_df.columns or 'label' not in data_df.columns:\n",
    "        raise ValueError(\"DataFrame must contain 'review' and 'label' columns.\")\n",
    "\n",
    "    data_df = data_df.dropna(subset=['review', 'label'], axis=0, how='any')  # 删除有缺失值的行\n",
    "    data_df['review'] = data_df['review'].astype(str) # Ensure reviews are strings\n",
    "    data_df['label'] = data_df['label'].astype(int) # Ensure labels are integers\n",
    "\n",
    "    if data_df.empty:\n",
    "        raise ValueError(\"Data is empty after cleaning. Please check your data file.\")\n",
    "\n",
    "    word2vec_model = build_word2vec_model(data_df, word_len, model_dir=model_dir)  # 创建word2vec模型\n",
    "    \n",
    "    # 打乱数据\n",
    "    idx = np.arange(data_df.shape[0])\n",
    "    np.random.shuffle(idx)\n",
    "    data_df_shuffled = data_df.iloc[idx]\n",
    "    \n",
    "    split_ratio = 0.8\n",
    "    train_test_split_index = int(data_df_shuffled.shape[0] * split_ratio)\n",
    "\n",
    "    if train_test_split_index == 0 or train_test_split_index == data_df_shuffled.shape[0]:\n",
    "        raise ValueError(f\"Train/test split resulted in an empty set. Total samples: {data_df_shuffled.shape[0]}, split index: {train_test_split_index}. Adjust data or split ratio.\")\n",
    "    \n",
    "    train_data = data_df_shuffled.iloc[:train_test_split_index]\n",
    "    test_data = data_df_shuffled.iloc[train_test_split_index:]\n",
    "    \n",
    "    train_dataset = RNNDataset(train_data, word2vec_model, seq_len, word_len)\n",
    "    # Consider num_workers=0 if issues arise, especially on Windows or in some Jupyter environments\n",
    "    train_dataloader = DataLoader(train_dataset, batch_size=batch_size, shuffle=True, num_workers=0) \n",
    "    \n",
    "    test_dataset = RNNDataset(test_data, word2vec_model, seq_len, word_len)\n",
    "    test_dataloader = DataLoader(test_dataset, batch_size=batch_size, shuffle=False, num_workers=0)\n",
    "    \n",
    "    print(f\"Data loaded: {len(data_df)} total reviews.\")\n",
    "    print(f\"Train Dataloader: {len(train_dataloader.dataset)} samples, {len(train_dataloader)} batches.\")\n",
    "    print(f\"Test Dataloader: {len(test_dataloader.dataset)} samples, {len(test_dataloader)} batches.\")\n",
    "    \n",
    "    # Return vocab related info if needed by other parts of the notebook\n",
    "    # For now, just returning dataloaders as per the original function signature in the prompt\n",
    "    return train_dataloader, test_dataloader\n",
    "\n",
    "# Example of how to call get_dataloader later in the notebook:\n",
    "# DATA_FILE_PATH = \"data/ChnSentiCorp_htl_all.csv\" # Or your actual data path\n",
    "# SEQ_LEN = 50\n",
    "# WORD_LEN = 100 # Word embedding dimension\n",
    "# BATCH_SIZE = 64\n",
    "# train_loader, test_loader = get_dataloader(DATA_FILE_PATH, SEQ_LEN, WORD_LEN, BATCH_SIZE)\n",
    "\n",
    "# The rest of the necessary imports for the notebook (if not already covered)\n",
    "import torch.nn as nn\n",
    "import torch.optim as optim\n",
    "from torch.utils.data import random_split # Already imported Dataset, DataLoader\n",
    "from torch.nn.utils.rnn import pad_sequence\n",
    "from collections import Counter # 用于构建词汇表\n",
    "import seaborn as sns\n",
    "from sklearn.metrics import confusion_matrix, accuracy_score\n",
    "from sklearn.model_selection import train_test_split"
   ]
  },
  {
   "cell_type": "markdown",
   "metadata": {},
   "source": [
    "### 2. 数据加载与预处理\n",
    "\n",
    "#### 2.1 加载数据\n",
    "使用 `Utils.py` 中的 `load_data` 函数加载影评数据。数据集通常包含两部分：影评文本和对应的情感标签（例如，0表示负面，1表示正面）。"
   ]
  },
  {
   "cell_type": "code",
   "execution_count": 242,
   "metadata": {},
   "outputs": [
    {
     "name": "stdout",
     "output_type": "stream",
     "text": [
      "警告: 数据文件 data/ChnSentiCorp_htl_all.csv 未找到。\n",
      "Error loading data from data/ChnSentiCorp_htl_all.csv: [Errno 2] No such file or directory: 'data/ChnSentiCorp_htl_all.csv'\n",
      "Using sample data instead.\n",
      "Loading existing Word2Vec model from ./model_w2v\\word2vec.model\n",
      "Data loaded: 10 total reviews.\n",
      "Train Dataloader: 8 samples, 1 batches.\n",
      "Test Dataloader: 2 samples, 1 batches.\n",
      "成功创建 DataLoader。\n",
      "训练集样本数: 8\n",
      "一批训练数据的形状: torch.Size([8, 50, 100])\n",
      "一批训练标签的形状: torch.Size([8, 1])\n",
      "测试集样本数: 2\n"
     ]
    }
   ],
   "source": [
    "# 请将 \"your_data_file.csv\" 替换为您的实际数据文件名和路径\n",
    "# 例如: \"data/ChnSentiCorp_htl_all.csv\" 或 \"data/my_movie_reviews.txt\"\n",
    "\n",
    "# 定义参数\n",
    "DATA_FILE_PATH = \"data/ChnSentiCorp_htl_all.csv\"  # 修改为您的数据文件路径\n",
    "# DATA_FILE_PATH = \"data/sample_reviews.csv\" # 使用示例数据进行测试\n",
    "SEQ_LEN = 50  # 序列长度\n",
    "WORD_LEN = 100  # 词向量维度\n",
    "BATCH_SIZE = 64  # 批处理大小\n",
    "MODEL_DIR = './model_w2v' # Word2Vec 模型保存目录\n",
    "\n",
    "# 创建一个示例CSV文件，如果真实数据文件不存在 (可选, 用于快速测试)\n",
    "if not os.path.exists(DATA_FILE_PATH) and DATA_FILE_PATH != \"data/sample_reviews.csv\":\n",
    "    print(f\"警告: 数据文件 {DATA_FILE_PATH} 未找到。\")\n",
    "    # 你可以在这里创建一个小的示例CSV，或者提示用户提供正确的文件\n",
    "    # 或者直接在 get_dataloader 中处理文件不存在的情况（如当前实现）\n",
    "\n",
    "# 调用 get_dataloader\n",
    "try:\n",
    "    train_loader, test_loader = get_dataloader(DATA_FILE_PATH, SEQ_LEN, WORD_LEN, BATCH_SIZE, model_dir=MODEL_DIR)\n",
    "    print(f\"成功创建 DataLoader。\")\n",
    "    \n",
    "    # 检查 DataLoader 是否有数据 (可选)\n",
    "    if train_loader and len(train_loader.dataset) > 0:\n",
    "        print(f\"训练集样本数: {len(train_loader.dataset)}\")\n",
    "        # 获取一批数据以查看\n",
    "        sample_batch_text, sample_batch_labels = next(iter(train_loader))\n",
    "        print(f\"一批训练数据的形状: {sample_batch_text.shape}\")\n",
    "        print(f\"一批训练标签的形状: {sample_batch_labels.shape}\")\n",
    "    else:\n",
    "        print(\"训练数据加载器为空或没有数据。\")\n",
    "\n",
    "    if test_loader and len(test_loader.dataset) > 0:\n",
    "        print(f\"测试集样本数: {len(test_loader.dataset)}\")\n",
    "    else:\n",
    "        print(\"测试数据加载器为空或没有数据。\")\n",
    "\n",
    "except Exception as e:\n",
    "    print(f\"创建 DataLoader 时出错: {e}\")\n",
    "    print(\"请检查 get_dataloader 函数和数据文件路径。\")\n",
    "    # 如果加载失败，后续依赖 DataLoader 的单元格可能无法运行"
   ]
  },
  {
   "cell_type": "markdown",
   "metadata": {},
   "source": [
    "### 3. 模型定义\n",
    "\n",
    "我们将定义两个模型：一个基于简单 RNN，另一个基于 LSTM。\n",
    "\n",
    "#### 3.1 RNN 模型"
   ]
  },
  {
   "cell_type": "code",
   "execution_count": 243,
   "metadata": {},
   "outputs": [],
   "source": [
    "class RNNModel(nn.Module):\n",
    "    def __init__(self, input_dim, hidden_dim, output_dim, n_layers, dropout_prob, use_embedding=True, vocab_size=None, embedding_dim=None, pad_idx=None):\n",
    "        super().__init__()\n",
    "        self.use_embedding = use_embedding\n",
    "        if self.use_embedding:\n",
    "            if vocab_size is None or embedding_dim is None:\n",
    "                raise ValueError(\"vocab_size and embedding_dim must be provided if use_embedding is True.\")\n",
    "            self.embedding = nn.Embedding(vocab_size, embedding_dim, padding_idx=pad_idx)\n",
    "            rnn_input_dim = embedding_dim\n",
    "        else:\n",
    "            rnn_input_dim = input_dim # This is the word_len from Word2Vec\n",
    "\n",
    "        self.rnn = nn.RNN(rnn_input_dim, \n",
    "                          hidden_dim, \n",
    "                          num_layers=n_layers, \n",
    "                          bidirectional=False, \n",
    "                          batch_first=True,\n",
    "                          dropout=dropout_prob if n_layers > 1 else 0)\n",
    "        self.fc = nn.Linear(hidden_dim, output_dim) \n",
    "        self.dropout = nn.Dropout(dropout_prob)\n",
    "\n",
    "    def forward(self, text_input):\n",
    "        # text_input shape: [batch size, seq len] if use_embedding else [batch size, seq len, word_vector_dim]\n",
    "        if self.use_embedding:\n",
    "            embedded = self.dropout(self.embedding(text_input))\n",
    "            # embedded = [batch size, seq len, emb dim]\n",
    "        else:\n",
    "            embedded = self.dropout(text_input) # Input is already word vectors\n",
    "            # embedded = [batch size, seq len, word_vector_dim]\n",
    "        \n",
    "        output, hidden = self.rnn(embedded)\n",
    "        # output = [batch size, seq len, hid dim]\n",
    "        # hidden = [n layers * n directions, batch size, hid dim]\n",
    "        \n",
    "        # Use the last hidden state of the last layer\n",
    "        # hidden[-1,:,:] for uni-directional\n",
    "        final_hidden_state = self.dropout(hidden[-1,:,:])\n",
    "        # final_hidden_state = [batch size, hid dim]\n",
    "        \n",
    "        return self.fc(final_hidden_state)"
   ]
  },
  {
   "cell_type": "markdown",
   "metadata": {},
   "source": [
    "#### 3.2 LSTM 模型"
   ]
  },
  {
   "cell_type": "code",
   "execution_count": 244,
   "metadata": {},
   "outputs": [],
   "source": [
    "class LSTMModel(nn.Module):\n",
    "    def __init__(self, input_dim, hidden_dim, output_dim, n_layers, bidirectional, dropout_prob, use_embedding=True, vocab_size=None, embedding_dim=None, pad_idx=None):\n",
    "        super().__init__()\n",
    "        self.use_embedding = use_embedding\n",
    "        if self.use_embedding:\n",
    "            if vocab_size is None or embedding_dim is None:\n",
    "                raise ValueError(\"vocab_size and embedding_dim must be provided if use_embedding is True.\")\n",
    "            self.embedding = nn.Embedding(vocab_size, embedding_dim, padding_idx=pad_idx)\n",
    "            lstm_input_dim = embedding_dim\n",
    "        else:\n",
    "            lstm_input_dim = input_dim # This is the word_len from Word2Vec\n",
    "        \n",
    "        self.lstm = nn.LSTM(lstm_input_dim, \n",
    "                            hidden_dim, \n",
    "                            num_layers=n_layers, \n",
    "                            bidirectional=bidirectional, \n",
    "                            batch_first=True,\n",
    "                            dropout=dropout_prob if n_layers > 1 else 0)\n",
    "        \n",
    "        fc_input_dim = hidden_dim * 2 if bidirectional else hidden_dim\n",
    "        self.fc = nn.Linear(fc_input_dim, output_dim)\n",
    "        self.dropout = nn.Dropout(dropout_prob)\n",
    "        \n",
    "    def forward(self, text_input):\n",
    "        # text_input shape: [batch size, seq len] if use_embedding else [batch size, seq len, word_vector_dim]\n",
    "        if self.use_embedding:\n",
    "            embedded = self.dropout(self.embedding(text_input))\n",
    "            # embedded = [batch size, seq len, emb dim]\n",
    "        else:\n",
    "            embedded = self.dropout(text_input) # Input is already word vectors\n",
    "             # embedded = [batch size, seq len, word_vector_dim]\n",
    "        \n",
    "        output, (hidden, cell) = self.lstm(embedded)\n",
    "        # output = [batch size, seq len, hid dim * num directions]\n",
    "        # hidden = [n layers * num directions, batch size, hid dim]\n",
    "        \n",
    "        if self.lstm.bidirectional:\n",
    "            # Concatenate the final forward and backward hidden states\n",
    "            final_hidden_state = self.dropout(torch.cat((hidden[-2,:,:], hidden[-1,:,:]), dim=1))\n",
    "        else:\n",
    "            # Take the final hidden state of the last layer\n",
    "            final_hidden_state = self.dropout(hidden[-1,:,:])\n",
    "            \n",
    "        # final_hidden_state = [batch size, hid dim * num directions]\n",
    "        return self.fc(final_hidden_state)"
   ]
  },
  {
   "cell_type": "markdown",
   "metadata": {},
   "source": [
    "### 4. 训练和评估函数\n",
    "\n",
    "#### 4.1 训练函数"
   ]
  },
  {
   "cell_type": "code",
   "execution_count": 245,
   "metadata": {},
   "outputs": [],
   "source": [
    "def train_model(model, iterator, optimizer, criterion):\n",
    "    epoch_loss = 0\n",
    "    epoch_acc = 0 \n",
    "    \n",
    "    model.train()\n",
    "    \n",
    "    if not iterator or len(iterator) == 0:\n",
    "        print(\"训练迭代器为空，跳过训练。\")\n",
    "        return 0, 0\n",
    "\n",
    "    for batch_idx, (text_batch, labels_batch) in enumerate(iterator):\n",
    "        text_batch = text_batch.to(device)\n",
    "        labels_batch = labels_batch.to(device) \n",
    "        \n",
    "        optimizer.zero_grad()\n",
    "        \n",
    "        # .squeeze(1) if output_dim is 1 and predictions are [batch_size, 1]\n",
    "        # if output_dim > 1 (e.g. for CrossEntropy), predictions might be [batch_size, num_classes]\n",
    "        predictions = model(text_batch) \n",
    "        \n",
    "        # Adjust based on loss function and label shape\n",
    "        if isinstance(criterion, nn.BCEWithLogitsLoss):\n",
    "            # Ensure predictions are [batch_size] or [batch_size, 1] and labels are [batch_size] or [batch_size, 1]\n",
    "            predictions = predictions.squeeze(-1) if predictions.dim() > 1 and predictions.size(-1) == 1 else predictions\n",
    "            labels_batch = labels_batch.squeeze(-1).float() if labels_batch.dim() > 1 and labels_batch.size(-1) == 1 else labels_batch.float()\n",
    "            loss = criterion(predictions, labels_batch)\n",
    "            rounded_preds = torch.round(torch.sigmoid(predictions))\n",
    "            correct = (rounded_preds == labels_batch).float()\n",
    "            acc = correct.sum() / len(correct)\n",
    "        elif isinstance(criterion, nn.CrossEntropyLoss):\n",
    "            # Ensure labels are [batch_size] and long type\n",
    "            labels_batch = labels_batch.squeeze(-1).long() if labels_batch.dim() > 1 and labels_batch.size(-1) == 1 else labels_batch.long()\n",
    "            loss = criterion(predictions, labels_batch)\n",
    "            top_p, top_class = predictions.topk(1, dim=1)\n",
    "            correct = (top_class.squeeze(1) == labels_batch).float()\n",
    "            acc = correct.sum() / len(correct)\n",
    "        else:\n",
    "            raise ValueError(\"不支持的损失函数类型\")\n",
    "\n",
    "        loss.backward()\n",
    "        optimizer.step()\n",
    "        \n",
    "        epoch_loss += loss.item()\n",
    "        epoch_acc += acc.item()\n",
    "        \n",
    "    return epoch_loss / len(iterator), epoch_acc / len(iterator)"
   ]
  },
  {
   "cell_type": "markdown",
   "metadata": {},
   "source": [
    "#### 4.2 评估函数"
   ]
  },
  {
   "cell_type": "code",
   "execution_count": 246,
   "metadata": {},
   "outputs": [],
   "source": [
    "def evaluate_model(model, iterator, criterion):\n",
    "    epoch_loss = 0\n",
    "    # epoch_acc = 0 # Replaced by sklearn.metrics.accuracy_score for final accuracy\n",
    "    \n",
    "    all_preds_list = []\n",
    "    all_labels_list = []\n",
    "    \n",
    "    model.eval()\n",
    "\n",
    "    if not iterator or len(iterator) == 0:\n",
    "        print(\"评估迭代器为空，跳过评估。\")\n",
    "        return 0, 0, np.array([]), [], []\n",
    "    \n",
    "    with torch.no_grad():\n",
    "        for text_batch, labels_batch in iterator:\n",
    "            text_batch = text_batch.to(device)\n",
    "            labels_batch = labels_batch.to(device)\n",
    "            \n",
    "            predictions = model(text_batch)\n",
    "            \n",
    "            current_labels_np = (labels_batch.squeeze(-1).cpu().numpy() if labels_batch.dim() > 1 and labels_batch.size(-1) == 1 else labels_batch.cpu().numpy())\n",
    "            all_labels_list.extend(current_labels_np)\n",
    "\n",
    "            if isinstance(criterion, nn.BCEWithLogitsLoss):\n",
    "                predictions_squeezed = predictions.squeeze(-1) if predictions.dim() > 1 and predictions.size(-1) == 1 else predictions\n",
    "                labels_batch_squeezed = labels_batch.squeeze(-1).float() if labels_batch.dim() > 1 and labels_batch.size(-1) == 1 else labels_batch.float()\n",
    "                loss = criterion(predictions_squeezed, labels_batch_squeezed)\n",
    "                rounded_preds = torch.round(torch.sigmoid(predictions_squeezed))\n",
    "                all_preds_list.extend(rounded_preds.cpu().numpy())\n",
    "            elif isinstance(criterion, nn.CrossEntropyLoss):\n",
    "                labels_batch_squeezed = labels_batch.squeeze(-1).long() if labels_batch.dim() > 1 and labels_batch.size(-1) == 1 else labels_batch.long()\n",
    "                loss = criterion(predictions, labels_batch_squeezed)\n",
    "                top_p, top_class = predictions.topk(1, dim=1)\n",
    "                all_preds_list.extend(top_class.squeeze(1).cpu().numpy())\n",
    "            else:\n",
    "                raise ValueError(\"不支持的损失函数类型\")\n",
    "\n",
    "            epoch_loss += loss.item()\n",
    "            # Per-batch accuracy calculation removed, final accuracy calculated once at the end\n",
    "            \n",
    "    # Ensure all_labels_list and all_preds_list are not empty before calculating metrics\n",
    "    if not all_labels_list or not all_preds_list:\n",
    "        print(\"没有标签或预测结果可用于计算指标。\")\n",
    "        return epoch_loss / len(iterator) if len(iterator) > 0 else 0, 0, np.array([]), [], []\n",
    "\n",
    "    # Convert lists to numpy arrays for sklearn metrics\n",
    "    all_labels_np = np.array(all_labels_list)\n",
    "    all_preds_np = np.array(all_preds_list)\n",
    "\n",
    "    # Ensure labels are integer type for confusion_matrix and accuracy_score if they were float (e.g. from BCE)\n",
    "    final_accuracy = accuracy_score(all_labels_np.astype(int), all_preds_np.astype(int))\n",
    "    cm = confusion_matrix(all_labels_np.astype(int), all_preds_np.astype(int))\n",
    "    \n",
    "    return epoch_loss / len(iterator), final_accuracy, cm, all_labels_np, all_preds_np"
   ]
  },
  {
   "cell_type": "markdown",
   "metadata": {},
   "source": [
    "### 5. 可视化函数"
   ]
  },
  {
   "cell_type": "code",
   "execution_count": 247,
   "metadata": {},
   "outputs": [],
   "source": [
    "def plot_loss_curves(train_losses, val_losses, title_prefix=\"\"):\n",
    "    plt.figure(figsize=(10, 5))\n",
    "    plt.plot(train_losses, label='训练损失 (Train Loss)')\n",
    "    if val_losses: # 如果提供了验证损失\n",
    "        plt.plot(val_losses, label='验证损失 (Validation Loss)')\n",
    "    plt.title(f'{title_prefix} 训练和验证损失曲线')\n",
    "    plt.xlabel('轮次 (Epochs)')\n",
    "    plt.ylabel('损失 (Loss)')\n",
    "    plt.legend()\n",
    "    plt.grid(True)\n",
    "    plt.show()\n",
    "\n",
    "def plot_confusion_matrix(cm, class_names, title_prefix=\"\"):\n",
    "    plt.figure(figsize=(8, 6))\n",
    "    sns.heatmap(cm, annot=True, fmt='d', cmap='Blues', xticklabels=class_names, yticklabels=class_names)\n",
    "    plt.title(f'{title_prefix} 混淆矩阵 (Confusion Matrix)')\n",
    "    plt.xlabel('预测标签 (Predicted Label)')\n",
    "    plt.ylabel('真实标签 (True Label)')\n",
    "    plt.show()"
   ]
  },
  {
   "cell_type": "markdown",
   "metadata": {},
   "source": [
    "### 6. RNN 模型实验\n",
    "\n",
    "#### 6.1 RNN 模型实例化与超参数设置"
   ]
  },
  {
   "cell_type": "code",
   "execution_count": null,
   "metadata": {},
   "outputs": [
    {
     "name": "stdout",
     "output_type": "stream",
     "text": [
      "RNN 模型结构:\n",
      "RNNModel(\n",
      "  (rnn): RNN(100, 128, batch_first=True)\n",
      "  (fc): Linear(in_features=128, out_features=1, bias=True)\n",
      "  (dropout): Dropout(p=0.3, inplace=False)\n",
      ")\n",
      "RNN 模型单批次输出形状: torch.Size([8, 1])\n"
     ]
    }
   ],
   "source": [
    "# 超参数\n",
    "# INPUT_DIM will be EMBEDDING_DIM_MODEL if USING_PRECOMPUTED_EMBEDDINGS is True\n",
    "# otherwise, it's vocab_size (if model has its own embedding layer)\n",
    "\n",
    "# Determine if we are using precomputed embeddings (from Word2Vec via RNNDataset)\n",
    "# This flag should have been set in the data loading/preparation cell\n",
    "if 'USING_PRECOMPUTED_EMBEDDINGS' not in globals():\n",
    "    print(\"警告: USING_PRECOMPUTED_EMBEDDINGS 未定义。假设为 False。\")\n",
    "    USING_PRECOMPUTED_EMBEDDINGS = False \n",
    "\n",
    "if 'EMBEDDING_DIM_MODEL' not in globals():\n",
    "    print(\"警告: EMBEDDING_DIM_MODEL 未定义。设置为默认值 100。\")\n",
    "    EMBEDDING_DIM_MODEL = 100 # Default if not set, should be WORD_LEN\n",
    "\n",
    "RNN_INPUT_DIM = EMBEDDING_DIM_MODEL if USING_PRECOMPUTED_EMBEDDINGS else vocab_size\n",
    "RNN_USE_EMBEDDING_LAYER = not USING_PRECOMPUTED_EMBEDDINGS\n",
    "\n",
    "# vocab_size and PAD_IDX are only needed if RNN_USE_EMBEDDING_LAYER is True\n",
    "# Ensure they are defined from previous cells if needed.\n",
    "if RNN_USE_EMBEDDING_LAYER:\n",
    "    if 'vocab_size' not in globals():\n",
    "        if 'vocab' in globals():\n",
    "            vocab_size = len(vocab)\n",
    "            print(f\"vocab_size is derived from vocab: {vocab_size}\")\n",
    "        elif 'vocab_from_texts' in globals():\n",
    "            vocab = vocab_from_texts\n",
    "            vocab_size = len(vocab)\n",
    "            print(f\"vocab_size is derived from vocab_from_texts: {vocab_size}\")\n",
    "        else:\n",
    "            raise ValueError(\"vocab_size is needed for RNN embedding layer but not defined, and vocab is also not available.\")\n",
    "    if 'PAD_IDX' not in globals(): PAD_IDX = 0 # Default PAD_IDX if not defined\n",
    "    RNN_VOCAB_SIZE = vocab_size\n",
    "    RNN_EMBEDDING_DIM_INTERNAL = EMBEDDING_DIM_MODEL # Dimension of embedding layer if used\n",
    "    RNN_PAD_IDX = PAD_IDX\n",
    "else: # Not using internal embedding layer\n",
    "    RNN_VOCAB_SIZE = None\n",
    "    RNN_EMBEDDING_DIM_INTERNAL = None\n",
    "    RNN_PAD_IDX = None\n",
    "\n",
    "\n",
    "HIDDEN_DIM_RNN = 128 \n",
    "OUTPUT_DIM = 1       \n",
    "N_LAYERS_RNN = 1     \n",
    "DROPOUT_RNN = 0.3    \n",
    "\n",
    "rnn_model = RNNModel(input_dim=RNN_INPUT_DIM, # This is feature dim if no embedding, else vocab_size\n",
    "                     hidden_dim=HIDDEN_DIM_RNN, \n",
    "                     output_dim=OUTPUT_DIM, \n",
    "                     n_layers=N_LAYERS_RNN, \n",
    "                     dropout_prob=DROPOUT_RNN,\n",
    "                     use_embedding=RNN_USE_EMBEDDING_LAYER,\n",
    "                     vocab_size=RNN_VOCAB_SIZE, # Pass vocab_size if using embedding\n",
    "                     embedding_dim=RNN_EMBEDDING_DIM_INTERNAL, # Pass embedding_dim if using embedding\n",
    "                     pad_idx=RNN_PAD_IDX # Pass pad_idx if using embedding\n",
    "                    ).to(device)\n",
    "\n",
    "LEARNING_RATE_RNN = 0.001\n",
    "optimizer_rnn = optim.Adam(rnn_model.parameters(), lr=LEARNING_RATE_RNN)\n",
    "\n",
    "if OUTPUT_DIM == 1:\n",
    "    criterion_rnn = nn.BCEWithLogitsLoss().to(device) \n",
    "else: \n",
    "    criterion_rnn = nn.CrossEntropyLoss().to(device)\n",
    "\n",
    "print(\"RNN 模型结构:\")\n",
    "print(rnn_model)\n",
    "\n",
    "try:\n",
    "    if len(train_loader) > 0:\n",
    "        sample_batch_text, sample_batch_labels = next(iter(train_loader))\n",
    "        sample_batch_text = sample_batch_text.to(device)\n",
    "        with torch.no_grad():\n",
    "            output = rnn_model(sample_batch_text)\n",
    "        print(f\"RNN 模型单批次输出形状: {output.shape}\") \n",
    "    else:\n",
    "        print(\"训练加载器为空，无法测试RNN模型批处理。\")\n",
    "except Exception as e:\n",
    "    print(f\"测试RNN模型时出错: {e}\")"
   ]
  },
  {
   "cell_type": "markdown",
   "metadata": {},
   "source": [
    "#### 6.2 训练 RNN 模型"
   ]
  },
  {
   "cell_type": "code",
   "execution_count": 249,
   "metadata": {},
   "outputs": [
    {
     "name": "stdout",
     "output_type": "stream",
     "text": [
      "开始训练 RNN 模型...\n",
      "RNN Epoch: 01\n",
      "\t训练损失: 0.692 | 训练准确率: 50.00%\n",
      "RNN Epoch: 02\n",
      "\t训练损失: 0.695 | 训练准确率: 62.50%\n",
      "RNN Epoch: 03\n",
      "\t训练损失: 0.694 | 训练准确率: 37.50%\n",
      "RNN Epoch: 04\n",
      "\t训练损失: 0.687 | 训练准确率: 75.00%\n",
      "RNN Epoch: 05\n",
      "\t训练损失: 0.700 | 训练准确率: 37.50%\n",
      "RNN Epoch: 06\n",
      "\t训练损失: 0.690 | 训练准确率: 75.00%\n",
      "RNN Epoch: 07\n",
      "\t训练损失: 0.695 | 训练准确率: 37.50%\n",
      "RNN Epoch: 08\n",
      "\t训练损失: 0.691 | 训练准确率: 62.50%\n",
      "RNN Epoch: 08\n",
      "\t训练损失: 0.691 | 训练准确率: 62.50%\n",
      "RNN Epoch: 09\n",
      "\t训练损失: 0.695 | 训练准确率: 62.50%\n",
      "RNN Epoch: 10\n",
      "\t训练损失: 0.690 | 训练准确率: 62.50%\n",
      "RNN 模型训练完成。\n",
      "RNN Epoch: 09\n",
      "\t训练损失: 0.695 | 训练准确率: 62.50%\n",
      "RNN Epoch: 10\n",
      "\t训练损失: 0.690 | 训练准确率: 62.50%\n",
      "RNN 模型训练完成。\n"
     ]
    },
    {
     "data": {
      "image/png": "[encoded data removed]",
      "text/plain": [
       "<Figure size 1000x500 with 1 Axes>"
      ]
     },
     "metadata": {},
     "output_type": "display_data"
    }
   ],
   "source": [
    "N_EPOCHS = 10 # 训练轮次，根据需要调整\n",
    "\n",
    "rnn_train_losses = []\n",
    "# rnn_val_losses = [] # 如果有验证集，可以记录验证损失\n",
    "\n",
    "print(\"开始训练 RNN 模型...\")\n",
    "if not list(train_loader): # 检查 train_loader 是否为空\n",
    "    print(\"错误：训练数据加载器为空。无法开始训练。请检查数据预处理步骤。\")\n",
    "else:\n",
    "    for epoch in range(N_EPOCHS):\n",
    "        train_loss, train_acc = train_model(rnn_model, train_loader, optimizer_rnn, criterion_rnn)\n",
    "        # val_loss, val_acc, _, _, _ = evaluate_model(rnn_model, test_loader, criterion_rnn) # 假设test_loader作为验证集\n",
    "        \n",
    "        rnn_train_losses.append(train_loss)\n",
    "        # rnn_val_losses.append(val_loss)\n",
    "        \n",
    "        print(f'RNN Epoch: {epoch+1:02}')\n",
    "        print(f'\\t训练损失: {train_loss:.3f} | 训练准确率: {train_acc*100:.2f}%')\n",
    "        # print(f'\\t验证损失: {val_loss:.3f} | 验证准确率: {val_acc*100:.2f}%')\n",
    "    print(\"RNN 模型训练完成。\")\n",
    "\n",
    "# 绘制损失曲线\n",
    "plot_loss_curves(rnn_train_losses, None, title_prefix=\"RNN\") # 如果有验证损失，传入 rnn_val_losses"
   ]
  },
  {
   "cell_type": "markdown",
   "metadata": {},
   "source": [
    "#### 6.3 评估 RNN 模型"
   ]
  },
  {
   "cell_type": "code",
   "execution_count": 250,
   "metadata": {},
   "outputs": [
    {
     "name": "stdout",
     "output_type": "stream",
     "text": [
      "RNN 测试损失: 0.693 | RNN 测试准确率: 50.00%\n"
     ]
    },
    {
     "data": {
      "image/png": "[encoded data removed]",
      "text/plain": [
       "<Figure size 800x600 with 2 Axes>"
      ]
     },
     "metadata": {},
     "output_type": "display_data"
    }
   ],
   "source": [
    "if not list(test_loader) or len(test_loader.dataset) == 0: # Check if dataset is also non-empty\n",
    "    print(\"错误：测试数据加载器为空或不包含数据。无法进行评估。\")\n",
    "    # Define placeholders if evaluation is skipped, to prevent NameError later\n",
    "    test_loss_rnn, test_acc_rnn, cm_rnn = 0.0, 0.0, np.array([])\n",
    "elif 'rnn_model' not in locals() or ('rnn_train_losses' in locals() and not rnn_train_losses and N_EPOCHS > 0) : # Check if model exists and was trained (if epochs > 0)\n",
    "    print(\"错误：RNN模型未定义或未训练/训练失败，无法评估。\")\n",
    "    test_loss_rnn, test_acc_rnn, cm_rnn = 0.0, 0.0, np.array([])\n",
    "else:\n",
    "    test_loss_rnn, test_acc_rnn, cm_rnn, _, _ = evaluate_model(rnn_model, test_loader, criterion_rnn)\n",
    "    print(f'RNN 测试损失: {test_loss_rnn:.3f} | RNN 测试准确率: {test_acc_rnn*100:.2f}%')\n",
    "\n",
    "    class_names = ['负面 (0)', '正面 (1)'] \n",
    "    if cm_rnn.size > 0: # Only plot if confusion matrix is not empty\n",
    "        plot_confusion_matrix(cm_rnn, class_names, title_prefix=\"RNN\")\n",
    "    else:\n",
    "        print(\"混淆矩阵为空，不绘制。\")"
   ]
  },
  {
   "cell_type": "markdown",
   "metadata": {},
   "source": [
    "### 7. LSTM 模型实验\n",
    "\n",
    "#### 7.1 LSTM 模型实例化与超参数设置"
   ]
  },
  {
   "cell_type": "code",
   "execution_count": 251,
   "metadata": {},
   "outputs": [
    {
     "name": "stdout",
     "output_type": "stream",
     "text": [
      "LSTM 模型结构:\n",
      "LSTMModel(\n",
      "  (lstm): LSTM(100, 128, batch_first=True, bidirectional=True)\n",
      "  (fc): Linear(in_features=256, out_features=1, bias=True)\n",
      "  (dropout): Dropout(p=0.4, inplace=False)\n",
      ")\n",
      "LSTM 模型单批次输出形状: torch.Size([8, 1])\n"
     ]
    }
   ],
   "source": [
    "# 超参数 for LSTM\n",
    "# USING_PRECOMPUTED_EMBEDDINGS and EMBEDDING_DIM_MODEL should be globally defined from data prep\n",
    "if 'USING_PRECOMPUTED_EMBEDDINGS' not in globals(): USING_PRECOMPUTED_EMBEDDINGS = False\n",
    "if 'EMBEDDING_DIM_MODEL' not in globals(): EMBEDDING_DIM_MODEL = 100\n",
    "\n",
    "\n",
    "LSTM_INPUT_DIM = EMBEDDING_DIM_MODEL if USING_PRECOMPUTED_EMBEDDINGS else vocab_size\n",
    "LSTM_USE_EMBEDDING_LAYER = not USING_PRECOMPUTED_EMBEDDINGS\n",
    "\n",
    "if LSTM_USE_EMBEDDING_LAYER:\n",
    "    if 'vocab_size' not in globals(): raise ValueError(\"vocab_size is needed for LSTM embedding layer but not defined.\")\n",
    "    if 'PAD_IDX' not in globals(): PAD_IDX = 0 \n",
    "    LSTM_VOCAB_SIZE = vocab_size\n",
    "    LSTM_EMBEDDING_DIM_INTERNAL = EMBEDDING_DIM_MODEL\n",
    "    LSTM_PAD_IDX = PAD_IDX\n",
    "else:\n",
    "    LSTM_VOCAB_SIZE = None\n",
    "    LSTM_EMBEDDING_DIM_INTERNAL = None\n",
    "    LSTM_PAD_IDX = None\n",
    "\n",
    "\n",
    "HIDDEN_DIM_LSTM = 128 \n",
    "# OUTPUT_DIM is same as RNN's\n",
    "N_LAYERS_LSTM = 1     \n",
    "BIDIRECTIONAL_LSTM = True \n",
    "DROPOUT_LSTM = 0.4    \n",
    "\n",
    "lstm_model = LSTMModel(input_dim=LSTM_INPUT_DIM,\n",
    "                       hidden_dim=HIDDEN_DIM_LSTM, \n",
    "                       output_dim=OUTPUT_DIM, \n",
    "                       n_layers=N_LAYERS_LSTM, \n",
    "                       bidirectional=BIDIRECTIONAL_LSTM, \n",
    "                       dropout_prob=DROPOUT_LSTM,\n",
    "                       use_embedding=LSTM_USE_EMBEDDING_LAYER,\n",
    "                       vocab_size=LSTM_VOCAB_SIZE,\n",
    "                       embedding_dim=LSTM_EMBEDDING_DIM_INTERNAL,\n",
    "                       pad_idx=LSTM_PAD_IDX\n",
    "                      ).to(device)\n",
    "\n",
    "LEARNING_RATE_LSTM = 0.001\n",
    "optimizer_lstm = optim.Adam(lstm_model.parameters(), lr=LEARNING_RATE_LSTM)\n",
    "\n",
    "if OUTPUT_DIM == 1:\n",
    "    criterion_lstm = nn.BCEWithLogitsLoss().to(device)\n",
    "else:\n",
    "    criterion_lstm = nn.CrossEntropyLoss().to(device)\n",
    "\n",
    "print(\"LSTM 模型结构:\")\n",
    "print(lstm_model)\n",
    "\n",
    "try:\n",
    "    if len(train_loader) > 0:\n",
    "        sample_batch_text, sample_batch_labels = next(iter(train_loader))\n",
    "        sample_batch_text = sample_batch_text.to(device)\n",
    "        with torch.no_grad():\n",
    "            output = lstm_model(sample_batch_text)\n",
    "        print(f\"LSTM 模型单批次输出形状: {output.shape}\")\n",
    "    else:\n",
    "        print(\"训练加载器为空，无法测试LSTM模型批处理。\")\n",
    "except Exception as e:\n",
    "    print(f\"测试LSTM模型时出错: {e}\")"
   ]
  },
  {
   "cell_type": "markdown",
   "metadata": {},
   "source": [
    "#### 7.2 训练 LSTM 模型"
   ]
  },
  {
   "cell_type": "code",
   "execution_count": 252,
   "metadata": {},
   "outputs": [
    {
     "name": "stdout",
     "output_type": "stream",
     "text": [
      "开始训练 LSTM 模型...\n",
      "LSTM Epoch: 01\n",
      "\t训练损失: 0.693 | 训练准确率: 50.00%\n",
      "LSTM Epoch: 02\n",
      "\t训练损失: 0.696 | 训练准确率: 50.00%\n",
      "LSTM Epoch: 03\n",
      "\t训练损失: 0.689 | 训练准确率: 50.00%\n",
      "LSTM Epoch: 04\n",
      "\t训练损失: 0.698 | 训练准确率: 50.00%\n",
      "LSTM Epoch: 05\n",
      "\t训练损失: 0.693 | 训练准确率: 50.00%\n",
      "LSTM Epoch: 06\n",
      "\t训练损失: 0.688 | 训练准确率: 50.00%\n",
      "LSTM Epoch: 07\n",
      "\t训练损失: 0.698 | 训练准确率: 50.00%\n",
      "LSTM Epoch: 08\n",
      "\t训练损失: 0.692 | 训练准确率: 50.00%\n",
      "LSTM Epoch: 09\n",
      "\t训练损失: 0.688 | 训练准确率: 75.00%\n",
      "LSTM Epoch: 10\n",
      "\t训练损失: 0.693 | 训练准确率: 62.50%\n",
      "LSTM 模型训练完成。\n",
      "LSTM Epoch: 01\n",
      "\t训练损失: 0.693 | 训练准确率: 50.00%\n",
      "LSTM Epoch: 02\n",
      "\t训练损失: 0.696 | 训练准确率: 50.00%\n",
      "LSTM Epoch: 03\n",
      "\t训练损失: 0.689 | 训练准确率: 50.00%\n",
      "LSTM Epoch: 04\n",
      "\t训练损失: 0.698 | 训练准确率: 50.00%\n",
      "LSTM Epoch: 05\n",
      "\t训练损失: 0.693 | 训练准确率: 50.00%\n",
      "LSTM Epoch: 06\n",
      "\t训练损失: 0.688 | 训练准确率: 50.00%\n",
      "LSTM Epoch: 07\n",
      "\t训练损失: 0.698 | 训练准确率: 50.00%\n",
      "LSTM Epoch: 08\n",
      "\t训练损失: 0.692 | 训练准确率: 50.00%\n",
      "LSTM Epoch: 09\n",
      "\t训练损失: 0.688 | 训练准确率: 75.00%\n",
      "LSTM Epoch: 10\n",
      "\t训练损失: 0.693 | 训练准确率: 62.50%\n",
      "LSTM 模型训练完成。\n"
     ]
    },
    {
     "data": {
      "image/png": "[encoded data removed]",
      "text/plain": [
       "<Figure size 1000x500 with 1 Axes>"
      ]
     },
     "metadata": {},
     "output_type": "display_data"
    }
   ],
   "source": [
    "# N_EPOCHS 保持一致，方便比较\n",
    "lstm_train_losses = []\n",
    "# lstm_val_losses = []\n",
    "\n",
    "print(\"开始训练 LSTM 模型...\")\n",
    "if not list(train_loader):\n",
    "    print(\"错误：训练数据加载器为空。无法开始训练。\")\n",
    "else:\n",
    "    for epoch in range(N_EPOCHS):\n",
    "        train_loss, train_acc = train_model(lstm_model, train_loader, optimizer_lstm, criterion_lstm)\n",
    "        # val_loss, val_acc, _, _, _ = evaluate_model(lstm_model, test_loader, criterion_lstm)\n",
    "        \n",
    "        lstm_train_losses.append(train_loss)\n",
    "        # lstm_val_losses.append(val_loss)\n",
    "        \n",
    "        print(f'LSTM Epoch: {epoch+1:02}')\n",
    "        print(f'\\t训练损失: {train_loss:.3f} | 训练准确率: {train_acc*100:.2f}%')\n",
    "        # print(f'\\t验证损失: {val_loss:.3f} | 验证准确率: {val_acc*100:.2f}%')\n",
    "    print(\"LSTM 模型训练完成。\")\n",
    "\n",
    "# 绘制损失曲线\n",
    "plot_loss_curves(lstm_train_losses, None, title_prefix=\"LSTM\")"
   ]
  },
  {
   "cell_type": "markdown",
   "metadata": {},
   "source": [
    "#### 7.3 评估 LSTM 模型"
   ]
  },
  {
   "cell_type": "code",
   "execution_count": 253,
   "metadata": {},
   "outputs": [
    {
     "name": "stdout",
     "output_type": "stream",
     "text": [
      "LSTM 测试损失: 0.693 | LSTM 测试准确率: 50.00%\n"
     ]
    },
    {
     "data": {
      "image/png": "[encoded data removed]",
      "text/plain": [
       "<Figure size 800x600 with 2 Axes>"
      ]
     },
     "metadata": {},
     "output_type": "display_data"
    }
   ],
   "source": [
    "if not list(test_loader) or len(test_loader.dataset) == 0: # Check if dataset is also non-empty\n",
    "    print(\"错误：测试数据加载器为空或不包含数据。无法进行评估。\")\n",
    "    test_loss_lstm, test_acc_lstm, cm_lstm = 0.0, 0.0, np.array([])\n",
    "elif 'lstm_model' not in locals() or ('lstm_train_losses' in locals() and not lstm_train_losses and N_EPOCHS > 0):\n",
    "    print(\"错误：LSTM模型未定义或未训练/训练失败，无法评估。\")\n",
    "    test_loss_lstm, test_acc_lstm, cm_lstm = 0.0, 0.0, np.array([])\n",
    "else:\n",
    "    test_loss_lstm, test_acc_lstm, cm_lstm, _, _ = evaluate_model(lstm_model, test_loader, criterion_lstm)\n",
    "    print(f'LSTM 测试损失: {test_loss_lstm:.3f} | LSTM 测试准确率: {test_acc_lstm*100:.2f}%')\n",
    "    \n",
    "    if cm_lstm.size > 0: # class_names defined in RNN eval cell\n",
    "        plot_confusion_matrix(cm_lstm, class_names, title_prefix=\"LSTM\")\n",
    "    else:\n",
    "        print(\"LSTM 混淆矩阵为空，不绘制。\")"
   ]
  },
  {
   "cell_type": "markdown",
   "metadata": {},
   "source": [
    "### 8. 性能对比与总结\n",
    "\n",
    "在这里，我们可以比较 RNN 和 LSTM 模型在测试集上的表现。"
   ]
  },
  {
   "cell_type": "code",
   "execution_count": 254,
   "metadata": {},
   "outputs": [
    {
     "name": "stdout",
     "output_type": "stream",
     "text": [
      "性能对比:\n",
      "RNN 模型测试准确率: 50.00%\n",
      "LSTM 模型测试准确率: 50.00%\n",
      "RNN 和 LSTM 模型表现相当。\n"
     ]
    }
   ],
   "source": [
    "print(\"性能对比:\")\n",
    "if 'test_acc_rnn' in locals() and 'test_acc_lstm' in locals():\n",
    "    print(f\"RNN 模型测试准确率: {test_acc_rnn*100:.2f}%\")\n",
    "    print(f\"LSTM 模型测试准确率: {test_acc_lstm*100:.2f}%\")\n",
    "\n",
    "    if test_acc_lstm > test_acc_rnn:\n",
    "        print(\"LSTM 模型在此任务和超参数设置下表现更好。\")\n",
    "    elif test_acc_rnn > test_acc_lstm:\n",
    "        print(\"RNN 模型在此任务和超参数设置下表现更好。\")\n",
    "    else:\n",
    "        print(\"RNN 和 LSTM 模型表现相当。\")\n",
    "else:\n",
    "    print(\"未能完成两个模型的评估，无法进行比较。请检查之前的步骤。\")"
   ]
  },
  {
   "cell_type": "markdown",
   "metadata": {},
   "source": [
    "### 8.1 模型性能详细对比\n",
    "\n",
    "让我们通过可视化的方式对比RNN和LSTM两种模型的性能差异。这种方式比单纯的数字更直观。"
   ]
  },
  {
   "cell_type": "code",
   "execution_count": 255,
   "metadata": {},
   "outputs": [
    {
     "data": {
      "image/png": "[encoded data removed]",
      "text/plain": [
       "<Figure size 1200x500 with 2 Axes>"
      ]
     },
     "metadata": {},
     "output_type": "display_data"
    },
    {
     "data": {
      "image/png": "[encoded data removed]",
      "text/plain": [
       "<Figure size 1500x600 with 2 Axes>"
      ]
     },
     "metadata": {},
     "output_type": "display_data"
    }
   ],
   "source": [
    "# 绘制RNN和LSTM的训练损失曲线对比\n",
    "plt.figure(figsize=(12, 5))\n",
    "\n",
    "plt.subplot(1, 2, 1)\n",
    "epochs = range(1, len(rnn_train_losses) + 1)\n",
    "plt.plot(epochs, rnn_train_losses, 'b-', label='RNN')\n",
    "plt.plot(epochs, lstm_train_losses, 'r-', label='LSTM')\n",
    "plt.title('训练损失对比')\n",
    "plt.xlabel('Epoch')\n",
    "plt.ylabel('Loss')\n",
    "plt.legend()\n",
    "plt.grid(True)\n",
    "\n",
    "# 绘制测试准确率对比 (柱状图)\n",
    "plt.subplot(1, 2, 2)\n",
    "model_names = ['RNN', 'LSTM']\n",
    "accuracies = [test_acc_rnn * 100, test_acc_lstm * 100]\n",
    "bars = plt.bar(model_names, accuracies, color=['blue', 'red'])\n",
    "plt.title('测试准确率对比')\n",
    "plt.ylabel('准确率 (%)')\n",
    "plt.ylim([0, 100])  # 确保y轴从0到100\n",
    "\n",
    "# 在柱状图上添加准确率数值标签\n",
    "for bar in bars:\n",
    "    height = bar.get_height()\n",
    "    plt.text(bar.get_x() + bar.get_width()/2., height + 1,\n",
    "             f'{height:.2f}%', ha='center', va='bottom')\n",
    "\n",
    "plt.tight_layout()\n",
    "plt.show()\n",
    "\n",
    "# 绘制混淆矩阵对比 (并排显示)\n",
    "if cm_rnn.size > 0 and cm_lstm.size > 0:\n",
    "    fig, (ax1, ax2) = plt.subplots(1, 2, figsize=(15, 6))\n",
    "    \n",
    "    sns.heatmap(cm_rnn, annot=True, fmt='d', cmap='Blues', xticklabels=class_names, \n",
    "                yticklabels=class_names, ax=ax1, cbar=False)\n",
    "    ax1.set_title('RNN 混淆矩阵')\n",
    "    ax1.set_xlabel('预测标签')\n",
    "    ax1.set_ylabel('真实标签')\n",
    "    \n",
    "    sns.heatmap(cm_lstm, annot=True, fmt='d', cmap='Reds', xticklabels=class_names, \n",
    "                yticklabels=class_names, ax=ax2, cbar=False)\n",
    "    ax2.set_title('LSTM 混淆矩阵')\n",
    "    ax2.set_xlabel('预测标签')\n",
    "    ax2.set_ylabel('真实标签')\n",
    "    \n",
    "    plt.tight_layout()\n",
    "    plt.show()"
   ]
  },
  {
   "cell_type": "markdown",
   "metadata": {},
   "source": [
    "### 8.2 模型预测示例分析\n",
    "\n",
    "让我们通过分析一些具体的例子，进一步理解RNN和LSTM在预测中的差异。我们将从测试集中选择几个样本，看看两个模型的预测是否一致，以及哪些样本难以分类。"
   ]
  },
  {
   "cell_type": "code",
   "execution_count": null,
   "metadata": {},
   "outputs": [
    {
     "name": "stdout",
     "output_type": "stream",
     "text": [
      "获取RNN模型预测...\n",
      "获取LSTM模型预测...\n",
      "\n",
      "预测结果对比:\n",
      "==================================================\n",
      "样本 1:\n"
     ]
    },
    {
     "ename": "RuntimeError",
     "evalue": "a Tensor with 2 elements cannot be converted to Scalar",
     "output_type": "error",
     "traceback": [
      "\u001b[31m---------------------------------------------------------------------------\u001b[39m",
      "\u001b[31mRuntimeError\u001b[39m                              Traceback (most recent call last)",
      "\u001b[36mCell\u001b[39m\u001b[36m \u001b[39m\u001b[32mIn[256]\u001b[39m\u001b[32m, line 46\u001b[39m\n\u001b[32m     44\u001b[39m \u001b[38;5;28;01mfor\u001b[39;00m i \u001b[38;5;129;01min\u001b[39;00m \u001b[38;5;28mrange\u001b[39m(\u001b[38;5;28mlen\u001b[39m(rnn_samples)):\n\u001b[32m     45\u001b[39m     \u001b[38;5;28mprint\u001b[39m(\u001b[33mf\u001b[39m\u001b[33m\"\u001b[39m\u001b[33m样本 \u001b[39m\u001b[38;5;132;01m{\u001b[39;00mi+\u001b[32m1\u001b[39m\u001b[38;5;132;01m}\u001b[39;00m\u001b[33m:\u001b[39m\u001b[33m\"\u001b[39m)\n\u001b[32m---> \u001b[39m\u001b[32m46\u001b[39m     \u001b[38;5;28mprint\u001b[39m(\u001b[33mf\u001b[39m\u001b[33m\"\u001b[39m\u001b[33m真实标签: \u001b[39m\u001b[38;5;132;01m{\u001b[39;00m\u001b[43mrnn_labels\u001b[49m\u001b[43m[\u001b[49m\u001b[43mi\u001b[49m\u001b[43m]\u001b[49m\u001b[43m.\u001b[49m\u001b[43mitem\u001b[49m\u001b[43m(\u001b[49m\u001b[43m)\u001b[49m\u001b[38;5;132;01m}\u001b[39;00m\u001b[33m\"\u001b[39m)\n\u001b[32m     47\u001b[39m     \u001b[38;5;28mprint\u001b[39m(\u001b[33mf\u001b[39m\u001b[33m\"\u001b[39m\u001b[33mRNN 预测: \u001b[39m\u001b[38;5;132;01m{\u001b[39;00mrnn_preds[i].item()\u001b[38;5;132;01m}\u001b[39;00m\u001b[33m, \u001b[39m\u001b[38;5;132;01m{\u001b[39;00m\u001b[33m'\u001b[39m\u001b[33m正确\u001b[39m\u001b[33m'\u001b[39m\u001b[38;5;250m \u001b[39m\u001b[38;5;28;01mif\u001b[39;00m\u001b[38;5;250m \u001b[39mrnn_preds[i].item()\u001b[38;5;250m \u001b[39m==\u001b[38;5;250m \u001b[39mrnn_labels[i].item()\u001b[38;5;250m \u001b[39m\u001b[38;5;28;01melse\u001b[39;00m\u001b[38;5;250m \u001b[39m\u001b[33m'\u001b[39m\u001b[33m错误\u001b[39m\u001b[33m'\u001b[39m\u001b[38;5;132;01m}\u001b[39;00m\u001b[33m\"\u001b[39m)\n\u001b[32m     48\u001b[39m     \u001b[38;5;28mprint\u001b[39m(\u001b[33mf\u001b[39m\u001b[33m\"\u001b[39m\u001b[33mLSTM 预测: \u001b[39m\u001b[38;5;132;01m{\u001b[39;00mlstm_preds[i].item()\u001b[38;5;132;01m}\u001b[39;00m\u001b[33m, \u001b[39m\u001b[38;5;132;01m{\u001b[39;00m\u001b[33m'\u001b[39m\u001b[33m正确\u001b[39m\u001b[33m'\u001b[39m\u001b[38;5;250m \u001b[39m\u001b[38;5;28;01mif\u001b[39;00m\u001b[38;5;250m \u001b[39mlstm_preds[i].item()\u001b[38;5;250m \u001b[39m==\u001b[38;5;250m \u001b[39mlstm_labels[i].item()\u001b[38;5;250m \u001b[39m\u001b[38;5;28;01melse\u001b[39;00m\u001b[38;5;250m \u001b[39m\u001b[33m'\u001b[39m\u001b[33m错误\u001b[39m\u001b[33m'\u001b[39m\u001b[38;5;132;01m}\u001b[39;00m\u001b[33m\"\u001b[39m)\n",
      "\u001b[31mRuntimeError\u001b[39m: a Tensor with 2 elements cannot be converted to Scalar"
     ]
    }
   ],
   "source": [
    "# 选择一些测试样本进行分析\n",
    "def predict_samples(model, data_loader, num_samples=5):\n",
    "    \"\"\"从数据加载器中选择几个样本并返回模型的预测结果\"\"\"\n",
    "    model.eval()\n",
    "    samples = []\n",
    "    predictions = []\n",
    "    labels = []\n",
    "    \n",
    "    with torch.no_grad():\n",
    "        for batch_idx, (text, label) in enumerate(data_loader):\n",
    "            if batch_idx >= num_samples:  # 只取前num_samples个批次\n",
    "                break\n",
    "                \n",
    "            text = text.to(device)\n",
    "            output = model(text)\n",
    "            \n",
    "            # 如果是二分类问题\n",
    "            if output.shape[1] == 1:\n",
    "                pred = torch.round(torch.sigmoid(output)).cpu()\n",
    "            else:\n",
    "                pred = output.argmax(dim=1, keepdim=True).cpu()\n",
    "                \n",
    "            samples.append(text.cpu())\n",
    "            predictions.append(pred)\n",
    "            labels.append(label)\n",
    "    \n",
    "    return samples, predictions, labels\n",
    "\n",
    "# 如果测试加载器不为空，获取一些样本预测结果\n",
    "if list(test_loader) and len(test_loader.dataset) > 0:\n",
    "    # 确保RNN和LSTM模型已经加载和训练好\n",
    "    if 'rnn_model' in locals() and 'lstm_model' in locals():\n",
    "        num_samples = min(5, len(test_loader))  # 取最多5个样本或全部样本\n",
    "        \n",
    "        print(\"获取RNN模型预测...\")\n",
    "        rnn_samples, rnn_preds, rnn_labels = predict_samples(rnn_model, test_loader, num_samples)\n",
    "        \n",
    "        print(\"获取LSTM模型预测...\")\n",
    "        lstm_samples, lstm_preds, lstm_labels = predict_samples(lstm_model, test_loader, num_samples)\n",
    "        \n",
    "        # 打印每个样本的预测结果对比\n",
    "        print(\"\\n预测结果对比:\")\n",
    "        print(\"=\" * 50)\n",
    "        for i in range(len(rnn_samples)):\n",
    "            print(f\"样本 {i+1}:\")\n",
    "            print(f\"真实标签: {rnn_labels[i].squeeze().item()}\")\n",
    "            print(f\"RNN 预测: {rnn_preds[i].squeeze().item()}, {'正确' if rnn_preds[i].squeeze().item() == rnn_labels[i].squeeze().item() else '错误'}\")\n",
    "            print(f\"LSTM 预测: {lstm_preds[i].squeeze().item()}, {'正确' if lstm_preds[i].squeeze().item() == lstm_labels[i].squeeze().item() else '错误'}\")\n",
    "            print(\"-\" * 50)\n",
    "            \n",
    "        # 计算模型间的预测一致性\n",
    "        agreement_count = sum(1 for rp, lp in zip(rnn_preds, lstm_preds) if rp.item() == lp.item())\n",
    "        agreement_rate = agreement_count / len(rnn_preds)\n",
    "        print(f\"RNN 和 LSTM 预测一致率: {agreement_rate:.2%}\")\n",
    "    else:\n",
    "        print(\"RNN或LSTM模型未定义，无法进行预测分析。\")\n",
    "else:\n",
    "    print(\"测试数据加载器为空，无法获取样本进行预测分析。\")"
   ]
  },
  {
   "cell_type": "markdown",
   "metadata": {},
   "source": [
    "### 8.3 结论与进一步改进方向\n",
    "\n",
    "基于上述实验和分析，我们可以得出以下结论：\n",
    "\n",
    "1. **模型性能比较**：\n",
    "   * LSTM模型通常能够捕获更长距离的依赖关系，因此在复杂文本序列上表现可能优于简单RNN。\n",
    "   * LSTM的门控机制有助于缓解梯度消失问题，使其在更长序列上保持良好的学习能力。\n",
    "\n",
    "2. **训练过程观察**：\n",
    "   * 从训练损失曲线可以看出，LSTM和RNN模型的收敛趋势有所不同。\n",
    "   * 训练集上的准确率反映了模型对训练数据的拟合能力。\n",
    "\n",
    "3. **测试结果分析**：\n",
    "   * 混淆矩阵显示了模型在正面和负面评论分类上的表现。\n",
    "   * 通过具体样本的对比分析，我们可以看到某些样本对两个模型都具有挑战性。\n",
    "\n",
    "4. **进一步改进方向**：\n",
    "   * **增加模型容量**：增加隐藏层维度、添加更多层或使用更复杂的架构。\n",
    "   * **优化超参数**：尝试不同的学习率、批次大小、dropout比例等。\n",
    "   * **提升词向量质量**：使用预训练的Word2Vec或GloVe等词向量，或者微调现有的词向量。\n",
    "   * **增强模型架构**：\n",
    "     * 尝试双向RNN/LSTM以捕获前后文信息\n",
    "     * 添加注意力机制以关注重要词汇\n",
    "     * 使用Transformer或BERT等预训练模型进行迁移学习\n",
    "   * **数据增强**：增加训练样本数量，或通过同义词替换等方式增强现有数据。\n",
    "\n",
    "通过这些改进，我们有望进一步提升模型在中文影评情感分类任务上的表现。"
   ]
  },
  {
   "cell_type": "markdown",
   "metadata": {},
   "source": [
    "**总结:**\n",
    "\n",
    "*   **RNN (循环神经网络)**:\n",
    "    *   优点: 结构相对简单，参数较少（相比LSTM）。\n",
    "    *   缺点: 容易出现梯度消失或梯度爆炸问题，难以捕捉长距离依赖关系。在本实验中，其性能可能不如LSTM，尤其是在处理较长或复杂的文本序列时。\n",
    "*   **LSTM (长短期记忆网络)**:\n",
    "    *   优点: 通过门控机制（输入门、遗忘门、输出门）有效缓解了梯度消失问题，能够更好地学习长距离依赖。通常在序列建模任务中表现优于简单RNN。\n",
    "    *   缺点: 模型结构更复杂，参数更多，训练时间可能更长。\n",
    "*   **实验观察**:\n",
    "    *   根据上述实验结果，我们可以看到LSTM在处理中文影评情感分类任务时的表现与RNN相比有所差异。\n",
    "    *   训练损失曲线显示了两种模型的学习过程，混淆矩阵反映了它们在分类准确性上的表现。\n",
    "    *   通过详细的样本对比，我们可以理解模型在不同类型评论上的预测差异。\n",
    "\n",
    "**未来工作方向**:\n",
    "1. 探索更多类型的序列模型，如GRU、双向RNN/LSTM等。\n",
    "2. 结合注意力机制改进模型对关键词的识别能力。\n",
    "3. 使用更大规模的预训练词向量或语言模型进行迁移学习。\n",
    "4. 对比分析不同模型在处理不同长度和复杂度的影评时的表现差异。"
   ]
  },
  {
   "cell_type": "markdown",
   "metadata": {},
   "source": []
  }
 ],
 "metadata": {
  "kernelspec": {
   "display_name": "flash",
   "language": "python",
   "name": "python3"
  },
  "language_info": {
   "codemirror_mode": {
    "name": "ipython",
    "version": 3
   },
   "file_extension": ".py",
   "mimetype": "text/x-python",
   "name": "python",
   "nbconvert_exporter": "python",
   "pygments_lexer": "ipython3",
   "version": "3.11.11"
  }
 },
 "nbformat": 4,
 "nbformat_minor": 4
}
